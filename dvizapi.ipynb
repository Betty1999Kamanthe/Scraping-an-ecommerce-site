{
 "cells": [
  {
   "cell_type": "markdown",
   "metadata": {},
   "source": [
    "### Initialize a Flask API"
   ]
  },
  {
   "cell_type": "code",
   "execution_count": 1,
   "metadata": {},
   "outputs": [],
   "source": [
    "from flask import Flask\n",
    "from flask_restful import Resource, Api, reqparse\n",
    "import pandas as pd\n",
    "import ast\n",
    "app = Flask(\"CarsAPI\")\n",
    "api = Api(app)"
   ]
  },
  {
   "cell_type": "markdown",
   "metadata": {},
   "source": [
    "### Endpoints"
   ]
  },
  {
   "cell_type": "code",
   "execution_count": 2,
   "metadata": {},
   "outputs": [],
   "source": [
    "#The API will have 4 end points: private list of cars,dealer list of cars, private info of cars, dealer info of cars\n",
    "\n",
    "class PrivateCars(Resource):\n",
    "    def get(self):\n",
    "        data = pd.read_csv('private.csv')  # read CSV\n",
    "        data = data.to_dict()  # convert dataframe to dictionary\n",
    "        return {'data': data}, 200  # return data and 200 OK code\n",
    "    \n",
    "class Dealer(Resource):\n",
    "    def get(self):\n",
    "        data = pd.read_csv('dealer.csv')  # read CSV\n",
    "        data = data.to_dict()  # convert dataframe to dictionary\n",
    "        return {'data': data}, 200  # return data and 200 OK code\n",
    "    \n",
    "class PrivateInfo(Resource):\n",
    "    def get(self):\n",
    "        data = pd.read_csv('privateinfo.csv')  # read CSV\n",
    "        data = data.to_dict()  # convert dataframe to dictionary\n",
    "        return {'data': data}, 200  # return data and 200 OK code\n",
    "    \n",
    "    \n",
    "class DealerInfo(Resource):\n",
    "    def get(self):\n",
    "        data = pd.read_csv('dealerinfo.csv')  # read CSV\n",
    "        data = data.to_dict()  # convert dataframe to dictionary\n",
    "        return {'data': data}, 200  # return data and 200 OK code\n",
    "    \n",
    "    \n",
    "api.add_resource(PrivateCars, '/')  # '/PrivateCars' is our entry point for Private list of cars\n",
    "api.add_resource(Dealer, '/Dealer')  # and '/Dealer' is our entry point for Dealer list of cars\n",
    "api.add_resource(PrivateInfo, '/PrivateInfo')  # '/PrivateInfo' is our entry point for Private info of cars\n",
    "api.add_resource(DealerInfo, '/DealerInfo')  # and '/DealerInfo' is our entry point for Dealer info of cars"
   ]
  },
  {
   "cell_type": "markdown",
   "metadata": {},
   "source": [
    "### Running a Local Server"
   ]
  },
  {
   "cell_type": "code",
   "execution_count": null,
   "metadata": {},
   "outputs": [
    {
     "name": "stdout",
     "output_type": "stream",
     "text": [
      " * Serving Flask app \"CarsAPI\" (lazy loading)\n",
      " * Environment: production\n",
      "\u001b[31m   WARNING: This is a development server. Do not use it in a production deployment.\u001b[0m\n",
      "\u001b[2m   Use a production WSGI server instead.\u001b[0m\n",
      " * Debug mode: off\n"
     ]
    },
    {
     "name": "stderr",
     "output_type": "stream",
     "text": [
      " * Running on http://127.0.0.1:5000/ (Press CTRL+C to quit)\n",
      "127.0.0.1 - - [18/Nov/2021 18:53:07] \"\u001b[37mGET / HTTP/1.1\u001b[0m\" 200 -\n"
     ]
    }
   ],
   "source": [
    "if __name__ == '__main__':\n",
    "    app.run()  # run our Flask app"
   ]
  },
  {
   "cell_type": "code",
   "execution_count": null,
   "metadata": {},
   "outputs": [],
   "source": []
  }
 ],
 "metadata": {
  "kernelspec": {
   "display_name": "Python 3",
   "language": "python",
   "name": "python3"
  },
  "language_info": {
   "codemirror_mode": {
    "name": "ipython",
    "version": 3
   },
   "file_extension": ".py",
   "mimetype": "text/x-python",
   "name": "python",
   "nbconvert_exporter": "python",
   "pygments_lexer": "ipython3",
   "version": "3.7.4"
  }
 },
 "nbformat": 4,
 "nbformat_minor": 2
}
